{
  "nbformat": 4,
  "nbformat_minor": 0,
  "metadata": {
    "colab": {
      "provenance": [],
      "authorship_tag": "ABX9TyNYEgoyCmjTDMV7TAErcxOd",
      "include_colab_link": true
    },
    "kernelspec": {
      "name": "python3",
      "display_name": "Python 3"
    },
    "language_info": {
      "name": "python"
    }
  },
  "cells": [
    {
      "cell_type": "markdown",
      "metadata": {
        "id": "view-in-github",
        "colab_type": "text"
      },
      "source": [
        "<a href=\"https://colab.research.google.com/github/iam-jatoi/Google_Colab/blob/main/OOP_ONLINE.ipynb\" target=\"_parent\"><img src=\"https://colab.research.google.com/assets/colab-badge.svg\" alt=\"Open In Colab\"/></a>"
      ]
    },
    {
      "cell_type": "code",
      "execution_count": null,
      "metadata": {
        "id": "J1BO28aYFqkq"
      },
      "outputs": [],
      "source": [
        "\n",
        "# # This is class\n",
        "# class House:\n",
        "#    address: str\n",
        "#    num_of_doors: int = 2\n",
        "#    num_of_rooms: int = 4\n",
        "\n",
        "#    def __init__(self, address: str):  #This is Contsructor\n",
        "#       self.address = address\n",
        "\n",
        "#    def ring_bell(self):  # this is Methods\n",
        "#       print(self.address)\n",
        "#       print(\"Ding Dong\")\n",
        "\n",
        "# # This is an Object / instance\n",
        "# hamzah_house = House(\"House No. 123\")\n",
        "\n",
        "# hamzah_house.ring_bell()\n",
        "\n",
        "# print(f\"Hamzah House Address: {hamzah_house.address}\")\n",
        "\n",
        "# najam_house = House(\"House No. 456\")\n",
        "# print(f\"Najam House Address: {najam_house.address}\")"
      ]
    },
    {
      "cell_type": "code",
      "source": [
        "class House:  # This is class\n",
        "  address: str    # these are atributes / properties\n",
        "  num_of_doors: int\n",
        "  num_of_rooms: int\n",
        "\n",
        "  def __init__(self, address: str):  # This is constructor method\n",
        "    self.address = address\n",
        "\n",
        "jatoi_house = House(\"House No. 123\")  # this is object / instance\n",
        "print(f\"Jatoi House Address: {jatoi_house.address}\")\n",
        "\n",
        "mughal_house = House(\"House No. 456\")  # this is object / instance\n",
        "print(f\"Mughal House Address: {mughal_house.address}\")\n"
      ],
      "metadata": {
        "colab": {
          "base_uri": "https://localhost:8080/"
        },
        "id": "6ykn8ZHiA4dE",
        "outputId": "662f3a71-6138-4e4e-829c-33a20de836a1"
      },
      "execution_count": null,
      "outputs": [
        {
          "output_type": "stream",
          "name": "stdout",
          "text": [
            "Jatoi House Address: House No. 123\n",
            "Mughal House Address: House No. 456\n"
          ]
        }
      ]
    },
    {
      "cell_type": "code",
      "source": [
        "class BankAccount:\n",
        "    def __init__(self, balance):\n",
        "        self.__balance = balance  # private attribute\n",
        "\n",
        "    def deposit(self, amount):\n",
        "        if amount > 0:\n",
        "            self.__balance += amount\n",
        "\n",
        "    def get_balance(self):\n",
        "        return self.__balance\n",
        "\n",
        "account = BankAccount(1000)\n",
        "account.deposit(500)\n",
        "print(account.get_balance())\n"
      ],
      "metadata": {
        "colab": {
          "base_uri": "https://localhost:8080/"
        },
        "id": "vlGn9GMHH0v1",
        "outputId": "8564cc9d-fa0e-4a8d-e3ed-568042cc9ea2"
      },
      "execution_count": null,
      "outputs": [
        {
          "output_type": "stream",
          "name": "stdout",
          "text": [
            "1500\n"
          ]
        }
      ]
    },
    {
      "cell_type": "code",
      "source": [
        "class ToyRobot:\n",
        "    def say_name(self):\n",
        "        print(\"Hi, I'm Robo!\")\n",
        "\n",
        "    def wave(self):\n",
        "        print(\"Waving hello!\")\n",
        "\n",
        "robo1 = ToyRobot()\n",
        "robo1.say_name()\n",
        "robo1.wave()\n"
      ],
      "metadata": {
        "colab": {
          "base_uri": "https://localhost:8080/"
        },
        "id": "oEOQjgCBVluw",
        "outputId": "438e3ae5-fff2-4789-f3b3-4276715117bd"
      },
      "execution_count": null,
      "outputs": [
        {
          "output_type": "stream",
          "name": "stdout",
          "text": [
            "Hi, I'm Robo!\n",
            "Waving hello!\n"
          ]
        }
      ]
    },
    {
      "cell_type": "code",
      "source": [
        "class Person:\n",
        "  name: str\n",
        "  age: int\n",
        "  def __init__(self, name: str, age: int):\n",
        "    self.name = name\n",
        "    self.age = age\n",
        "\n",
        "person1 = Person(\"Jabbar\", 25)\n",
        "print(f\"Jatoi Name: {person1.name}\")\n",
        "person2 = Person(\"Kareem\", 20)\n",
        "print(f\"Syed Name: {person2.name}\")\n"
      ],
      "metadata": {
        "colab": {
          "base_uri": "https://localhost:8080/"
        },
        "id": "t1sUBeLXgStY",
        "outputId": "3638874d-631f-495c-ca67-55a29aaf235c"
      },
      "execution_count": null,
      "outputs": [
        {
          "output_type": "stream",
          "name": "stdout",
          "text": [
            "Jatoi Name: Jabbar\n",
            "Syed Name: Kareem\n"
          ]
        }
      ]
    }
  ]
}