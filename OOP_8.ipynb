{
  "nbformat": 4,
  "nbformat_minor": 0,
  "metadata": {
    "colab": {
      "provenance": [],
      "authorship_tag": "ABX9TyP/Lq6F7MA6nqnmr3AU7q33",
      "include_colab_link": true
    },
    "kernelspec": {
      "name": "python3",
      "display_name": "Python 3"
    },
    "language_info": {
      "name": "python"
    }
  },
  "cells": [
    {
      "cell_type": "markdown",
      "metadata": {
        "id": "view-in-github",
        "colab_type": "text"
      },
      "source": [
        "<a href=\"https://colab.research.google.com/github/iam-jatoi/Google_Colab/blob/main/OOP_8.ipynb\" target=\"_parent\"><img src=\"https://colab.research.google.com/assets/colab-badge.svg\" alt=\"Open In Colab\"/></a>"
      ]
    },
    {
      "cell_type": "markdown",
      "source": [
        "**OOP - OBJECT ORIENTED PROGRAMMING**"
      ],
      "metadata": {
        "id": "vdMRYlv2y7hj"
      }
    },
    {
      "cell_type": "code",
      "source": [
        "# class Students:\n",
        "#      name: str = \"\"   # This is called Attribute which is inside class\n",
        "#      age: int\n",
        "#      roll_no: int\n",
        "\n",
        "# def _init_(self, user_name, age, roll_no): # dunder \\ magic\n",
        "#      self.name = user_name\n",
        "#      self.age = age\n",
        "#      self.roll_no\n",
        "\n",
        "# # #instance\n",
        "# student1 = Students(\"Jabbar\", 30, 1234) #Passing argument\n",
        "\n",
        "\n",
        "\n"
      ],
      "metadata": {
        "id": "ppC1CNQmy7tr"
      },
      "execution_count": null,
      "outputs": []
    },
    {
      "cell_type": "markdown",
      "source": [
        "**Encapsulation -> Means Hide Karna**"
      ],
      "metadata": {
        "id": "2nK5VRLR7HWO"
      }
    },
    {
      "cell_type": "code",
      "source": [
        "#1. Encapsulation -> means Hide karna\n",
        "\n",
        "class Person:\n",
        "\n",
        "    def _init_(self, user_name, user_age, roll_no): # Constructor\n",
        "        self.name = user_name # these are attributes\n",
        "        self.age = user_age\n",
        "        self.__roll_no = roll_no # access modifiers (Public, Private, Protected)\n",
        "\n",
        "\n",
        "\n",
        "\n",
        "    def get_roll_no(self): #getter function\n",
        "        return self.__roll_no # -> 1234\n",
        "\n",
        "# #instance\n",
        "person1 = Person(\"Jabbar\", 30, 1234) #Passing argument\n",
        "print(person1.get_roll_no())"
      ],
      "metadata": {
        "id": "POnKxUSP7Hx_"
      },
      "execution_count": null,
      "outputs": []
    },
    {
      "cell_type": "markdown",
      "source": [
        "**ABSTRACTION**"
      ],
      "metadata": {
        "id": "Mlg-CLZC6vmN"
      }
    },
    {
      "cell_type": "code",
      "source": [
        "#2. Abstraction -> User ko jitni information chahiye hum usko utni provide, aisi information jis se user ke len dena nhi usko hide kar dety hen\n",
        "\n",
        "class Person:\n",
        "\n",
        "    def _init_(self, user_name, user_age, roll_no): # Constructor\n",
        "        self.name = user_name # --> these are attributes\n",
        "        self.age = user_age\n",
        "        self.__roll_no = roll_no # --> access modifiers (Public, Private, Protected)\n",
        "        self.transportation = [\"car\", \"bike\", \"bus\"]\n",
        "\n",
        "    def get_roll_no(self): # Getter function\n",
        "        return self.__roll_no # -> 1234\n",
        "\n",
        "# #instance\n",
        "person1 = Person(\"Jabbar\", 30, 1234) #Passing argument\n",
        "print(person1.get_roll_no())"
      ],
      "metadata": {
        "id": "p7hXE2r06vx6"
      },
      "execution_count": null,
      "outputs": []
    },
    {
      "cell_type": "markdown",
      "source": [],
      "metadata": {
        "id": "EBeD9t5l6cjP"
      }
    },
    {
      "cell_type": "code",
      "source": [
        "from dataclasses import dataclass\n",
        "\n",
        "@dataclass\n",
        "class Employee:\n",
        "    name: str\n",
        "    __employee_id: int\n",
        "\n",
        "\n",
        "    def salary_milgayi(self):\n",
        "      print(f\"{self.name} ko Salary Mil gayi\")\n",
        "\n",
        "\n",
        "    def kitni_salary_milgayi(self):\n",
        "      if self.__employee_id == 1:\n",
        "        return 100000\n",
        "      elif self.__employee_id == 2:\n",
        "          return 200000\n",
        "      else:\n",
        "          \"Kuch nhi\"\n",
        "\n",
        "\n",
        "jabbar = Employee(\"Jabbar\", 1)\n",
        "\n",
        "jabbar.salary_milgayi()\n",
        "print(jabbar.kitni_salary_milgayi())\n",
        "\n",
        "\n",
        "\n",
        "\n"
      ],
      "metadata": {
        "colab": {
          "base_uri": "https://localhost:8080/"
        },
        "id": "jB2ucyv36dZm",
        "outputId": "d1641068-632c-4b32-e1de-4f0945162ac7"
      },
      "execution_count": null,
      "outputs": [
        {
          "output_type": "stream",
          "name": "stdout",
          "text": [
            "Jabbar ko Salary Mil gayi\n",
            "100000\n"
          ]
        }
      ]
    },
    {
      "cell_type": "markdown",
      "source": [
        "**Inheritance**"
      ],
      "metadata": {
        "id": "sYFwWQlm6PbP"
      }
    },
    {
      "cell_type": "code",
      "source": [
        "# Inheritance\n",
        "\n",
        "from dataclasses import dataclass\n",
        "\n",
        "\n",
        "class Person:\n",
        "    def _init_(self, user_name, user_age):\n",
        "        self.name = user_name\n",
        "        self.age = user_age\n",
        "\n",
        "def Male(Person):\n",
        "    def _init_(self):\n",
        "        super()._init_(\"Ali\", 30)\n",
        "        self.income = 100000\n",
        "\n",
        "male1 = Male()\n",
        "print(male1.income)\n",
        "print(male1.name)"
      ],
      "metadata": {
        "id": "Q2t1Tdow6QNv"
      },
      "execution_count": null,
      "outputs": []
    },
    {
      "cell_type": "code",
      "source": [],
      "metadata": {
        "colab": {
          "base_uri": "https://localhost:8080/"
        },
        "id": "3yfbR8AlOKCw",
        "outputId": "23beccfb-c690-4f77-a058-da8d76bf2610"
      },
      "execution_count": null,
      "outputs": [
        {
          "output_type": "stream",
          "name": "stdout",
          "text": [
            "Jabbar ko Salary Mil gayi\n",
            "100000\n"
          ]
        }
      ]
    }
  ]
}