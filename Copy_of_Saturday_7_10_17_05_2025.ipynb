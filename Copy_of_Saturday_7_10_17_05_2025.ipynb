{
  "nbformat": 4,
  "nbformat_minor": 0,
  "metadata": {
    "colab": {
      "provenance": [],
      "include_colab_link": true
    },
    "kernelspec": {
      "name": "python3",
      "display_name": "Python 3"
    },
    "language_info": {
      "name": "python"
    }
  },
  "cells": [
    {
      "cell_type": "markdown",
      "metadata": {
        "id": "view-in-github",
        "colab_type": "text"
      },
      "source": [
        "<a href=\"https://colab.research.google.com/github/iam-jatoi/Google_Colab/blob/main/Copy_of_Saturday_7_10_17_05_2025.ipynb\" target=\"_parent\"><img src=\"https://colab.research.google.com/assets/colab-badge.svg\" alt=\"Open In Colab\"/></a>"
      ]
    },
    {
      "cell_type": "code",
      "execution_count": null,
      "metadata": {
        "id": "DV9wmSXlsSi-"
      },
      "outputs": [],
      "source": [
        "# Abstraction\n",
        "# Multiple Inheritance\n",
        "# MRO Method Resolution Order\n",
        "# Opertor Overloading\n",
        "# Class / Instance attributes\n",
        "# class / Instance methods and Static methods"
      ]
    },
    {
      "cell_type": "code",
      "source": [
        "from abc import ABC, abstractmethod\n",
        "\n",
        "class Person:\n",
        "    def __init__(self, name, age):\n",
        "       self.name = name\n",
        "       self.age = age\n",
        "\n",
        "    def work(self):\n",
        "      print(\"person is working\")\n",
        "\n",
        "    def greet(self):\n",
        "      print(\"Hi\")\n",
        "\n",
        "\n",
        "class Student(Person):\n",
        "   def __init__(self, name: str, age: int, student_id: str) -> None:\n",
        "        super().__init__(name,age)\n",
        "        self.student_id = student_id\n",
        "\n",
        "   def greet(self):\n",
        "     print(\"student is greeting\")\n",
        "\n",
        "\n",
        "\n",
        "# p1 =  Person(\"Ali\", 20)\n",
        "# p1.greet()\n",
        "\n",
        "\n",
        "s1 = Student(\"Abdullah\", 25, \"S1234\")\n",
        "s1.work()\n",
        "\n",
        "\n"
      ],
      "metadata": {
        "colab": {
          "base_uri": "https://localhost:8080/"
        },
        "id": "VlI4Ld05ywDk",
        "outputId": "43418a90-7b51-465b-a7c1-2e0b1cb5992e"
      },
      "execution_count": null,
      "outputs": [
        {
          "output_type": "stream",
          "name": "stdout",
          "text": [
            "person is working\n"
          ]
        }
      ]
    },
    {
      "cell_type": "code",
      "source": [
        "from abc import ABC, abstractmethod\n",
        "\n",
        "class Person(ABC):\n",
        "    def __init__(self, name, age):\n",
        "       self.name = name\n",
        "       self.age = age\n",
        "\n",
        "    @abstractmethod\n",
        "    def work():\n",
        "      pass\n",
        "\n",
        "    def greet():\n",
        "      print(\"Hi\")\n",
        "\n",
        "\n",
        "class Student(Person):\n",
        "   def __init__(self, name: str, age: int, student_id: str) -> None:\n",
        "        super().__init__(name,age)\n",
        "        self.student_id = student_id\n",
        "\n",
        "   def work(self):\n",
        "      print(\"studying\")\n",
        "\n",
        "   def greet(self):\n",
        "     print(\"student is greeting\")\n",
        "\n",
        "\n",
        "\n",
        "# p1 =  Person(\"Ali\", 20)\n",
        "# p1.greet()\n",
        "\n",
        "\n",
        "s1 = Student(\"Abdullah\", 25, \"S1234\")\n",
        "s1.greet()\n",
        "s1.work()\n",
        "\n",
        "\n"
      ],
      "metadata": {
        "colab": {
          "base_uri": "https://localhost:8080/"
        },
        "id": "M8qmZTZXuSyt",
        "outputId": "93e62982-3630-4605-bb62-6e72f3e67bfe"
      },
      "execution_count": null,
      "outputs": [
        {
          "output_type": "stream",
          "name": "stdout",
          "text": [
            "student is greeting\n",
            "studying\n"
          ]
        }
      ]
    },
    {
      "cell_type": "code",
      "source": [
        "from abc import ABC, abstractmethod\n",
        "\n",
        "class Person:\n",
        "    def __init__(self, name, age):\n",
        "       self.name = name\n",
        "       self.age = age\n",
        "\n",
        "    def work(self):\n",
        "      print(\"person is working\")\n",
        "\n",
        "    # def greet(self):\n",
        "    #   print(\"Hi\")\n",
        "\n",
        "class Student(Person):\n",
        "   def __init__(self, name: str, age: int, student_id: str) -> None:\n",
        "        super().__init__(name,age)\n",
        "        self.student_id = student_id\n",
        "\n",
        "\n",
        "\n",
        "   def work(self):\n",
        "    print(\"student is working\")\n",
        "\n",
        "\n",
        "\n",
        "\n",
        "class Teacher:\n",
        "  def __init__(self,name: str, age: int, teacher_id: str):\n",
        "    self.name = name\n",
        "    self.age = age\n",
        "    self.teacher_id = teacher_id\n",
        "\n",
        "  def work():\n",
        "    print(\"teacher is teaching\")\n",
        "\n",
        "  def greet(self):\n",
        "     print(\"teacher is greeting\")\n",
        "\n",
        "\n",
        "\n",
        "\n",
        "class StudentLeader(Student, Teacher):\n",
        "  def __init__(self, name: str, age: int, student_id: str, teacher_id: str, slot: str):\n",
        "    Student.__init__( self,name, age, student_id)\n",
        "    Teacher.__init__( self,name, age, teacher_id)\n",
        "    self.slot = slot\n",
        "\n",
        "  # def greet(self):\n",
        "  #   print(\"student leader is greeting\")\n",
        "\n",
        "  # def work(self):\n",
        "  #   print(\"student leader is teaching\")\n",
        "\n",
        "student_leader = StudentLeader(\"Amir\", 20, \"S123\", \"T123\", \"Sat 7-10\")\n",
        "# print(student_leader.slot)\n",
        "student_leader.work()\n",
        "student_leader.greet()\n",
        "StudentLeader.mro()\n"
      ],
      "metadata": {
        "colab": {
          "base_uri": "https://localhost:8080/"
        },
        "id": "UOjw9FQCwRsq",
        "outputId": "2c79a827-7943-4d48-bb4d-36779ea21bce"
      },
      "execution_count": null,
      "outputs": [
        {
          "output_type": "stream",
          "name": "stdout",
          "text": [
            "student is working\n",
            "teacher is greeting\n"
          ]
        },
        {
          "output_type": "execute_result",
          "data": {
            "text/plain": [
              "[__main__.StudentLeader,\n",
              " __main__.Student,\n",
              " __main__.Person,\n",
              " __main__.Teacher,\n",
              " object]"
            ]
          },
          "metadata": {},
          "execution_count": 21
        }
      ]
    },
    {
      "cell_type": "code",
      "source": [
        "# def sum(a:int, b: int):\n",
        "#     return a + b\n",
        "# def sum(a:int, b: int, c: int):\n",
        "#     return a + b + c\n",
        "\n",
        "# result = sum(1,2,3)\n",
        "# print(\"reesut>>>\",result)"
      ],
      "metadata": {
        "id": "Fg8q3Wga1W-5"
      },
      "execution_count": null,
      "outputs": []
    },
    {
      "cell_type": "code",
      "source": [
        "class Person:\n",
        "    def __init__(self, name, age):\n",
        "        self.name = name\n",
        "        self.age = age\n",
        "\n",
        "    def __add__(self,other):\n",
        "      combined_name = f\"{self.name} {other.name}\"\n",
        "      combined_age = self.age + other.age\n",
        "      return Person(combined_name, combined_age)\n",
        "\n",
        "      # print(self.name + other.name)\n",
        "\n",
        "\n",
        "    def greet(self):\n",
        "        print(f\"Hello, my name is {self.name} and I am {self.age} years old.\")\n",
        "\n",
        "person1 = Person(\"Ali\", 30)\n",
        "person2 = Person(\"Abdullah\",20)\n",
        "combined_person = person1 + person2\n",
        "print(combined_person.name)\n",
        "print(combined_person.age)\n",
        "# person1.greet()\n",
        "# person2.greet()\n"
      ],
      "metadata": {
        "colab": {
          "base_uri": "https://localhost:8080/"
        },
        "id": "DwJUOMsr7DzK",
        "outputId": "491b4745-e225-4006-99ac-08c09178265a"
      },
      "execution_count": null,
      "outputs": [
        {
          "output_type": "stream",
          "name": "stdout",
          "text": [
            "combined_name>>> Ali Abdullah\n",
            "combined_age>>> 50\n",
            "Ali Abdullah\n",
            "50\n"
          ]
        }
      ]
    },
    {
      "cell_type": "code",
      "source": [
        "# class / instance lever atrributes\n",
        "\n",
        "class Person():\n",
        "  population = 0\n",
        "  default_language = \"Urdu\"\n",
        "\n",
        "  def __init__(self, name, age, langauge:str = None ):\n",
        "    Person.population += 1\n",
        "    self.name = name\n",
        "    self.age = age\n",
        "    self.language = langauge if langauge else Person.default_language\n",
        "\n",
        "\n",
        "person1 = Person(\"Ali\",20, \"english\")\n",
        "person2 = Person(\"Abdullah\",25)\n",
        "print(\"population\",Person.population)\n",
        "print(\"person 1 langauge\",person1.language)\n",
        "print(\"person 2 language\",person2.language)\n",
        "# print(\"default langauge\",Person.default_language)"
      ],
      "metadata": {
        "colab": {
          "base_uri": "https://localhost:8080/"
        },
        "id": "jRZX-ZKr-QRE",
        "outputId": "1bf0313b-3ecf-4191-c1fd-f3daa1f674a2"
      },
      "execution_count": null,
      "outputs": [
        {
          "output_type": "stream",
          "name": "stdout",
          "text": [
            "population 2\n",
            "person 1 langauge english\n",
            "person 2 language Urdu\n"
          ]
        }
      ]
    },
    {
      "cell_type": "code",
      "source": [
        " # class / instance lever atrributes\n",
        "\n",
        "class Person():\n",
        "  population = 1000\n",
        "  default_language = \"Urdu\"\n",
        "\n",
        "  def __init__(self, name, age ):\n",
        "    self.name = name\n",
        "    self.age = age\n",
        "\n",
        "  def greet(self):\n",
        "    print(f\"{self.name} is greeting\")\n",
        "\n",
        "  @classmethod\n",
        "  def get_population(cls):\n",
        "    print(\"cls>>\",cls)\n",
        "    print(\"population>>\",cls.population)\n",
        "\n",
        "  @classmethod\n",
        "  def create_anoymouse(cls, age:int):\n",
        "    print(\"cls>>>\",cls)  # cls  = Person\n",
        "    # return  Person(\"Annoymous\", age)\n",
        "    return cls(\"Annoymous\", age)\n",
        "\n",
        "  @staticmethod\n",
        "  def is_adult(age: int):\n",
        "    return age >= 18\n",
        "\n",
        "\n",
        "\n",
        "\n",
        "# person1 = Person(\"Ali\",20)\n",
        "# # person1.greet()\n",
        "# # person1.get_population()\n",
        "# person2 = Person.create_anoymouse(30)\n",
        "# print(\"name\",person2.name)\n",
        "# print(\"age\",person2.age)\n",
        "\n",
        "person1 = Person(\"Ali\",20)\n",
        "Person.is_adult(20)"
      ],
      "metadata": {
        "colab": {
          "base_uri": "https://localhost:8080/"
        },
        "id": "uydPTex1DurR",
        "outputId": "314bc809-6a9e-450f-d7c0-7fdb59e887a3"
      },
      "execution_count": null,
      "outputs": [
        {
          "output_type": "execute_result",
          "data": {
            "text/plain": [
              "True"
            ]
          },
          "metadata": {},
          "execution_count": 68
        }
      ]
    },
    {
      "cell_type": "code",
      "source": [],
      "metadata": {
        "id": "c0KFgGQCGYuu"
      },
      "execution_count": null,
      "outputs": []
    }
  ]
}