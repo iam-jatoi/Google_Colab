{
  "nbformat": 4,
  "nbformat_minor": 0,
  "metadata": {
    "colab": {
      "provenance": [],
      "authorship_tag": "ABX9TyOERgb4/we/GJJ0e1FRHMJe",
      "include_colab_link": true
    },
    "kernelspec": {
      "name": "python3",
      "display_name": "Python 3"
    },
    "language_info": {
      "name": "python"
    }
  },
  "cells": [
    {
      "cell_type": "markdown",
      "metadata": {
        "id": "view-in-github",
        "colab_type": "text"
      },
      "source": [
        "<a href=\"https://colab.research.google.com/github/iam-jatoi/Google_Colab/blob/main/OOP_VIVA.ipynb\" target=\"_parent\"><img src=\"https://colab.research.google.com/assets/colab-badge.svg\" alt=\"Open In Colab\"/></a>"
      ]
    },
    {
      "cell_type": "markdown",
      "source": [
        "# OOP VIVA"
      ],
      "metadata": {
        "id": "b6-gvLQcvlZf"
      }
    },
    {
      "cell_type": "code",
      "execution_count": null,
      "metadata": {
        "id": "uQbdY7C6vkOH"
      },
      "outputs": [],
      "source": [
        "# Define the Vehicle class\n",
        "class Vehicle:\n",
        "    # Constructor method (called when an object is created)\n",
        "    def __init__(self, color, speed):\n",
        "        self.color = color  # Attribute\n",
        "        self.speed = speed  # Attribute\n",
        "\n",
        "    # Method to accelerate the vehicle\n",
        "    def accelerate(self, increment):\n",
        "        self.speed += increment\n",
        "        print(f\"Accelerating! New speed: {self.speed} km/h\")\n",
        "\n",
        "    # Method to brake the vehicle\n",
        "    def brake(self, decrement):\n",
        "        self.speed -= decrement\n",
        "        print(f\"Braking! New speed: {self.speed} km/h\")\n",
        "\n",
        "    # Method to display vehicle details\n",
        "    def display(self):\n",
        "        print(f\"Vehicle color: {self.color}, Current speed: {self.speed} km/h\")\n",
        "\n",
        "# Create an object (instance) of the Vehicle class\n",
        "my_car = Vehicle(\"Red\", 60)\n",
        "\n",
        "# Access attributes\n",
        "print(f\"My car is {my_car.color}.\")  # Output: My car is Red.\n",
        "\n",
        "# Call methods\n",
        "my_car.accelerate(20)  # Output: Accelerating! New speed: 80 km/h\n",
        "my_car.brake(10)       # Output: Braking! New speed: 70 km/h\n",
        "my_car.display()       # Output: Vehicle color: Red, Current speed: 70 km/h"
      ]
    }
  ]
}