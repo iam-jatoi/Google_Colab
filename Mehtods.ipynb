{
  "nbformat": 4,
  "nbformat_minor": 0,
  "metadata": {
    "colab": {
      "provenance": [],
      "authorship_tag": "ABX9TyPGRSSQz1GL5A0mBoDN+zeJ",
      "include_colab_link": true
    },
    "kernelspec": {
      "name": "python3",
      "display_name": "Python 3"
    },
    "language_info": {
      "name": "python"
    }
  },
  "cells": [
    {
      "cell_type": "markdown",
      "metadata": {
        "id": "view-in-github",
        "colab_type": "text"
      },
      "source": [
        "<a href=\"https://colab.research.google.com/github/iam-jatoi/Google_Colab/blob/main/Mehtods.ipynb\" target=\"_parent\"><img src=\"https://colab.research.google.com/assets/colab-badge.svg\" alt=\"Open In Colab\"/></a>"
      ]
    },
    {
      "cell_type": "markdown",
      "source": [
        "**1. String Methods**"
      ],
      "metadata": {
        "id": "jii44nBEdLqU"
      }
    },
    {
      "cell_type": "code",
      "execution_count": null,
      "metadata": {
        "id": "QVtvhL39cbZ5"
      },
      "outputs": [],
      "source": [
        "name = \"my name is jabbar and my age is 25\"\n",
        "\n",
        "# Capitalization : is se first letter capital hoga\n",
        "print(name.capitalize())\n",
        "\n",
        "# Casefold : is se saare words small letters me hongy\n",
        "print(name.casefold())\n",
        "\n",
        "# Count : is se word/letter count hoga ke kitni bar likha hy\n",
        "print(name.count('25'))\n",
        "\n",
        "# Find : is se word/letter find hoga\n",
        "print(name.find('age'))\n",
        "\n",
        "# Index : Basically index Find ki tarha kaam karta hy\n",
        "print(name.index('age'))\n",
        "\n",
        "# Replace : Is se word/letter replace hoga\n",
        "print(name.replace(\"jabbar\",\"Kareem\"))\n",
        "\n",
        "# Upper : is se saare word/letters capital ho jayenge\n",
        "print(name.upper())\n",
        "\n"
      ]
    },
    {
      "cell_type": "markdown",
      "source": [
        "**2. List Methods**"
      ],
      "metadata": {
        "id": "UWYI_XYifm6j"
      }
    },
    {
      "cell_type": "code",
      "source": [
        "students = [\"Jabbar\",\"Kareem\",\"Sameen\",\"Oshaq\"]\n",
        "\n",
        "# Append : is se list me last row me add hoga\n",
        "students.append('Jimmy')\n",
        "print(students)\n",
        "\n",
        "# Clear : is se list clear ho jayegi\n",
        "print(students.clear())\n",
        "print(students)\n",
        "\n",
        "# Count : is list me jo value hogi wo count karega or by default 0 se sart hoga\n",
        "print(students.count(\"Jabbar\"))\n",
        "\n",
        "# Pop : iska kaam hy koi specified value ko remove\n",
        "x = (students.pop(1))\n",
        "print(x)\n",
        "print(students)\n",
        "\n",
        "# Insert : iska kaam hy list value add karna (kis index ke baad)\n",
        "students.insert(0, 'Waqar')\n",
        "print(students)\n",
        "\n",
        "# Reverse : iska kaam hy list ko reverse karna yaani last row se first tak reverse\n",
        "students.reverse()\n",
        "print(students)\n",
        "\n",
        "# Extend : iska kaam hy list ko update karna (ya New list uske andar merge karna)\n",
        "new_students = [\"Wazir\",\"Niaz\"]\n",
        "students.extend(new_students)\n",
        "print(students)\n",
        "\n",
        "# Remove : iska kaam hy sepcified name ko list me se remove karna\n",
        "students.remove(\"Jabbar\")\n",
        "print(students)\n",
        "\n",
        "# Sort : iska kaam hy list ko Name wise sort out karna\n",
        "students.sort()\n",
        "print(students)\n",
        "\n"
      ],
      "metadata": {
        "id": "gkaPCwddfvbz"
      },
      "execution_count": null,
      "outputs": []
    },
    {
      "cell_type": "markdown",
      "source": [
        "**3. Dictionary Method**"
      ],
      "metadata": {
        "id": "Q14aRJi0IxSm"
      }
    },
    {
      "cell_type": "code",
      "source": [
        "my_dict = {\n",
        "    \"name\" : \"jabbar\",\n",
        "    \"age\" : 25,\n",
        "    \"city\" : \"karachi\"\n",
        "}\n",
        "\n",
        "# Get : is se hamen jis item ki key value maloom karni hogi hum uski key likhenge\n",
        "print(my_dict.get('age'))\n",
        "\n",
        "# Keys : is se saari keys aa jayengi (Like name, age, city)\n",
        "print(my_dict.keys())\n",
        "\n",
        "# Values : is se saari keys ki value return karega\n",
        "print(my_dict.values())\n",
        "\n",
        "# Items : is me saare items (like name, age, city) values ke sath return karega (Seperately round bracket me)\n",
        "print(my_dict.items())\n",
        "\n",
        "# Update : is se update kar sakty hen\n",
        "my_dict.update({\"name\" : \"Kareem\"})\n",
        "print(my_dict)\n",
        "\n",
        "# Update second Way : this is the way we can add more keys\n",
        "new_dict = {\"name\" : \"Waqar\"}\n",
        "new_dict2 = {\"age\" : 25}\n",
        "my_dict.update(new_dict)\n",
        "my_dict.update(new_dict2)\n",
        "print(my_dict)\n",
        "\n",
        "# Clear : is se saari value data clear ho jayengi, dictionary empty ho jayegi or none show karegi\n",
        "print(my_dict.clear())\n",
        "print(my_dict)\n",
        "\n",
        "# Pop : is se sepcified keys delete ho jayegi\n",
        "my_dict.pop(\"age\")\n",
        "print(my_dict)"
      ],
      "metadata": {
        "id": "COtEZUEcI16r"
      },
      "execution_count": null,
      "outputs": []
    },
    {
      "cell_type": "markdown",
      "source": [
        "**4. Tuple Method**"
      ],
      "metadata": {
        "id": "Aquy0zDSQWlj"
      }
    },
    {
      "cell_type": "code",
      "source": [
        "num = (6, 2, 3, 8, 5, 6, 9, 7, 6)\n",
        "\n",
        "# Count : is se specified number count hoga ke kitni dafa likha hy\n",
        "a = num.count(6)\n",
        "print(a)\n",
        "\n",
        "# Index : is se specified number ko index se batayega ke konse number pe hy. (index always starts from Zero)\n",
        "b = num.count(6)\n",
        "print(b)\n",
        "\n",
        "\n",
        "\n"
      ],
      "metadata": {
        "id": "cse2B2EIQafS"
      },
      "execution_count": null,
      "outputs": []
    }
  ]
}