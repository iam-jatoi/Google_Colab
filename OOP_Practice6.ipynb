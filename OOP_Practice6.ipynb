{
  "nbformat": 4,
  "nbformat_minor": 0,
  "metadata": {
    "colab": {
      "provenance": [],
      "authorship_tag": "ABX9TyPB8f5M64VKluqW8T4zXgAa",
      "include_colab_link": true
    },
    "kernelspec": {
      "name": "python3",
      "display_name": "Python 3"
    },
    "language_info": {
      "name": "python"
    }
  },
  "cells": [
    {
      "cell_type": "markdown",
      "metadata": {
        "id": "view-in-github",
        "colab_type": "text"
      },
      "source": [
        "<a href=\"https://colab.research.google.com/github/iam-jatoi/Google_Colab/blob/main/OOP_Practice6.ipynb\" target=\"_parent\"><img src=\"https://colab.research.google.com/assets/colab-badge.svg\" alt=\"Open In Colab\"/></a>"
      ]
    },
    {
      "cell_type": "code",
      "execution_count": null,
      "metadata": {
        "id": "q48DP4Xxr91F",
        "colab": {
          "base_uri": "https://localhost:8080/"
        },
        "outputId": "e32815d4-f8a6-4108-dc24-b9d85695a237"
      },
      "outputs": [
        {
          "output_type": "stream",
          "name": "stdout",
          "text": [
            "This is Name: Jabbar and age: 30\n"
          ]
        }
      ],
      "source": [
        " class Person:\n",
        "  def __init__(self, name: str, age: int):\n",
        "    self.name = name\n",
        "    self.age = age\n",
        "\n",
        "person1 = Person(\"Jabbar\", 25)\n",
        "print(f\"This is Name: {person1.name} and age: {person1.age}\")\n"
      ]
    },
    {
      "cell_type": "code",
      "source": [
        "# Encapsulation\n",
        "class Student:\n",
        "  def __init__(self, name: str, slot: str, roll_no: int, marks: int):\n",
        "    self.name = name\n",
        "    self.slot = slot\n",
        "    self.__roll_no = roll_no\n",
        "    self.set_marks = marks\n",
        "\n",
        "\n",
        "  # Getter method\n",
        "  def get_roll_no(self):\n",
        "    return self.__roll_no\n",
        "\n",
        "  def set_marks(self, marks: int):\n",
        "    self.__marksn = marks\n",
        "\n",
        "student1 = Student(\"Jabbar\", \"Saturday Evening\", 123, 95)\n",
        "print(f\"This is Student Name: {student1.name} and Student Slot: {student1.slot}\")\n",
        "print(f\"This is Student1's Roll No. {student1.get_roll_no()} and his Marks {student1.marks}\")\n"
      ],
      "metadata": {
        "id": "dv-rlv3ZvAb9"
      },
      "execution_count": null,
      "outputs": []
    },
    {
      "cell_type": "code",
      "source": [
        "class Student:\n",
        "    def __init__(self, name):\n",
        "        self._name = name  # protected attribute\n",
        "\n",
        "s = Student(\"Sara\")\n",
        "print(s._name)  # ⚠️ Technically allowed, but discouraged\n"
      ],
      "metadata": {
        "colab": {
          "base_uri": "https://localhost:8080/"
        },
        "id": "TdPIHYE341as",
        "outputId": "b6097bb6-c292-4bf1-ef27-2aaac9612356"
      },
      "execution_count": null,
      "outputs": [
        {
          "output_type": "stream",
          "name": "stdout",
          "text": [
            "Sara\n"
          ]
        }
      ]
    },
    {
      "cell_type": "code",
      "source": [
        "# Inheritance\n",
        "\n",
        "# Parent class\n",
        "class Vehicle:\n",
        "    def __init__(self, brand):\n",
        "        self.brand = brand\n",
        "\n",
        "    def start(self):\n",
        "        print(f\"{self.brand} vehicle started.\")\n",
        "\n",
        "# Child class\n",
        "class Car(Vehicle):  # Inheriting from Vehicle\n",
        "    def __init__(self, brand, model):\n",
        "        super().__init__(brand)   # Call parent constructor\n",
        "        self.model = model\n",
        "\n",
        "    def start(self):  # Overriding parent method\n",
        "        print(f\"{self.brand} {self.model} car is ready to drive!\")\n",
        "\n",
        "\n",
        "car1 = Car(\"Toyota\", \"Corolla\")\n",
        "car1.start()\n"
      ],
      "metadata": {
        "id": "4mHmw5qFBrvK",
        "colab": {
          "base_uri": "https://localhost:8080/"
        },
        "outputId": "01d4ac45-14dc-4fc2-b6a5-0526202ebc59"
      },
      "execution_count": null,
      "outputs": [
        {
          "output_type": "stream",
          "name": "stdout",
          "text": [
            "Toyota Corolla car is ready to drive!\n"
          ]
        }
      ]
    },
    {
      "cell_type": "code",
      "source": [
        "# Multiple Inheritance\n",
        "\n",
        "class Human:\n",
        "  def __init__(self, name: str, age: int):\n",
        "    self.name = name\n",
        "    self.age = age\n",
        "\n",
        "\n",
        "class Teacher(Human):\n",
        "  def __init__(self, name: str, age: int, salary: int):\n",
        "    super().__init__(name: str, age: int)\n",
        "    self.salary = salary\n",
        "\n",
        "\n",
        "  # def teaching(self):\n",
        "  #   print(f\"{human1.name} is teaching\")\n",
        "\n",
        "\n",
        "\n",
        "class Student(Human):\n",
        "  def __init__(self, name: str, age: int, roll_no):\n",
        "     super().__init__(name, age):\n",
        "     self.roll_no = roll_no\n",
        "\n",
        "\n",
        "\n",
        "human1 = Teacher(\"Sir Aneeq\", 35, 100000)\n",
        "print(f\"{human1.name} is an expert in Python and His Age is {human1.age} and Salary: {human1.salary}\")\n",
        "student1 = student1\n",
        "\n",
        "\n"
      ],
      "metadata": {
        "colab": {
          "base_uri": "https://localhost:8080/",
          "height": 111
        },
        "id": "acjAKR95pcRw",
        "outputId": "f4bcbf2d-97a3-47ba-b456-56e257776733"
      },
      "execution_count": null,
      "outputs": [
        {
          "output_type": "error",
          "ename": "SyntaxError",
          "evalue": "invalid syntax (<ipython-input-23-0529d7720bea>, line 11)",
          "traceback": [
            "\u001b[0;36m  File \u001b[0;32m\"<ipython-input-23-0529d7720bea>\"\u001b[0;36m, line \u001b[0;32m11\u001b[0m\n\u001b[0;31m    super().__init__(self, name: str, age: int)\u001b[0m\n\u001b[0m                               ^\u001b[0m\n\u001b[0;31mSyntaxError\u001b[0m\u001b[0;31m:\u001b[0m invalid syntax\n"
          ]
        }
      ]
    },
    {
      "cell_type": "code",
      "source": [],
      "metadata": {
        "id": "78qJwFYhvOQ5"
      },
      "execution_count": null,
      "outputs": []
    }
  ]
}