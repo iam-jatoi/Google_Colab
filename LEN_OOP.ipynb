{
  "nbformat": 4,
  "nbformat_minor": 0,
  "metadata": {
    "colab": {
      "provenance": [],
      "authorship_tag": "ABX9TyM5KfZsl/jcdJXivb2fjefs",
      "include_colab_link": true
    },
    "kernelspec": {
      "name": "python3",
      "display_name": "Python 3"
    },
    "language_info": {
      "name": "python"
    }
  },
  "cells": [
    {
      "cell_type": "markdown",
      "metadata": {
        "id": "view-in-github",
        "colab_type": "text"
      },
      "source": [
        "<a href=\"https://colab.research.google.com/github/iam-jatoi/Google_Colab/blob/main/LEN_OOP.ipynb\" target=\"_parent\"><img src=\"https://colab.research.google.com/assets/colab-badge.svg\" alt=\"Open In Colab\"/></a>"
      ]
    },
    {
      "cell_type": "code",
      "execution_count": null,
      "metadata": {
        "colab": {
          "base_uri": "https://localhost:8080/"
        },
        "id": "2uZ-hrEGSAnD",
        "outputId": "82bc9ca7-490a-4fcd-fb54-1353c9b564ef"
      },
      "outputs": [
        {
          "output_type": "stream",
          "name": "stdout",
          "text": [
            "120\n"
          ]
        }
      ],
      "source": [
        "class Book:\n",
        "  def __init__(self, price: int, totalpages: int):\n",
        "    self.price = price\n",
        "    self.totalpages = totalpages\n",
        "\n",
        "  def __len__(self):\n",
        "    return self.totalpages\n",
        "\n",
        "\n",
        "book = Book(100, 120)\n",
        "print(len(book))\n"
      ]
    },
    {
      "cell_type": "code",
      "source": [],
      "metadata": {
        "id": "U5iSJW2CT2EX"
      },
      "execution_count": null,
      "outputs": []
    }
  ]
}