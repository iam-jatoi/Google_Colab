{
  "nbformat": 4,
  "nbformat_minor": 0,
  "metadata": {
    "colab": {
      "provenance": [],
      "include_colab_link": true
    },
    "kernelspec": {
      "name": "python3",
      "display_name": "Python 3"
    },
    "language_info": {
      "name": "python"
    }
  },
  "cells": [
    {
      "cell_type": "markdown",
      "metadata": {
        "id": "view-in-github",
        "colab_type": "text"
      },
      "source": [
        "<a href=\"https://colab.research.google.com/github/iam-jatoi/Google_Colab/blob/main/Object_Oriented_Programming_(OOP)_in_Python.ipynb\" target=\"_parent\"><img src=\"https://colab.research.google.com/assets/colab-badge.svg\" alt=\"Open In Colab\"/></a>"
      ]
    },
    {
      "cell_type": "markdown",
      "source": [
        "🧠 1. Object-Oriented Programming (OOP) in Python"
      ],
      "metadata": {
        "id": "AH12vy_CSYMu"
      }
    },
    {
      "cell_type": "markdown",
      "source": [
        "📌 OOP ke 4 main concepts:\n",
        "\n",
        "1. Class – Blueprint\n",
        "\n",
        "2. Object – Class ka instance\n",
        "\n",
        "3. Encapsulation – Data hide karna\n",
        "\n",
        "4. Inheritance – Reusability\n",
        "\n",
        "5. Polymorphism – Ek cheez ka multiple forms\n",
        "\n"
      ],
      "metadata": {
        "id": "K3lpaQWsSfB4"
      }
    },
    {
      "cell_type": "markdown",
      "source": [
        "✅ Example: Simple Class and Object"
      ],
      "metadata": {
        "id": "V5OyOOLGSx5x"
      }
    },
    {
      "cell_type": "code",
      "source": [
        "class Student:\n",
        "    def __init__(self, name, roll_no):\n",
        "        self.name = name\n",
        "        self.roll_no = roll_no\n",
        "\n",
        "    def display_info(self):\n",
        "        print(f\"Name: {self.name}, Roll No: {self.roll_no}\")\n",
        "\n",
        "# Object banayein\n",
        "s1 = Student(\"Hiba\", 101)\n",
        "s1.display_info()\n"
      ],
      "metadata": {
        "colab": {
          "base_uri": "https://localhost:8080/"
        },
        "id": "2-M-9iYgS095",
        "outputId": "3b3e8998-45c6-4b94-8d85-40fe48dc7e1c"
      },
      "execution_count": null,
      "outputs": [
        {
          "output_type": "stream",
          "name": "stdout",
          "text": [
            "Name: Hiba, Roll No: 101\n"
          ]
        }
      ]
    },
    {
      "cell_type": "markdown",
      "source": [
        "Explanation:\n",
        "\n",
        ". __init__: Constructor method\n",
        "\n",
        ". self: Current object\n",
        "\n",
        ". Student(\"Hiba\", 101): Object create kia\n",
        "\n",
        ". display_info(): Function call kia"
      ],
      "metadata": {
        "id": "S76CYfkYS-Uq"
      }
    },
    {
      "cell_type": "markdown",
      "source": [
        "🔒 Encapsulation"
      ],
      "metadata": {
        "id": "NBxuxQkSTVaM"
      }
    },
    {
      "cell_type": "code",
      "source": [
        "class BankAccount:\n",
        "    def __init__(self, balance):\n",
        "        self.__balance = balance   # private variable\n",
        "\n",
        "    def deposit(self, amount):\n",
        "        self.__balance += amount\n",
        "\n",
        "    def get_balance(self):\n",
        "        return self.__balance\n",
        "\n",
        "acc = BankAccount(1000)\n",
        "acc.deposit(500)\n",
        "print(acc.get_balance())  # Output: 1500\n"
      ],
      "metadata": {
        "colab": {
          "base_uri": "https://localhost:8080/"
        },
        "id": "52ZoqnXzTXFv",
        "outputId": "4ccd7269-3203-49a2-d6f7-b3d3da2ee5a3"
      },
      "execution_count": null,
      "outputs": [
        {
          "output_type": "stream",
          "name": "stdout",
          "text": [
            "1500\n"
          ]
        }
      ]
    },
    {
      "cell_type": "markdown",
      "source": [
        "👨‍👩‍👧‍👦 Inheritance"
      ],
      "metadata": {
        "id": "V99FBcudTcIt"
      }
    },
    {
      "cell_type": "code",
      "source": [
        "class Person:\n",
        "    def __init__(self, name):\n",
        "        self.name = name\n",
        "\n",
        "    def speak(self):\n",
        "        print(f\"{self.name} is speaking\")\n",
        "\n",
        "class Student(Person):\n",
        "    def study(self):\n",
        "        print(f\"{self.name} is studying\")\n",
        "\n",
        "s = Student(\"Ali\")\n",
        "s.speak()\n",
        "s.study()\n"
      ],
      "metadata": {
        "colab": {
          "base_uri": "https://localhost:8080/"
        },
        "id": "rTUZmc7oTanp",
        "outputId": "45e44fcf-f919-4151-8806-8028a6b02ea3"
      },
      "execution_count": null,
      "outputs": [
        {
          "output_type": "stream",
          "name": "stdout",
          "text": [
            "Ali is speaking\n",
            "Ali is studying\n"
          ]
        }
      ]
    },
    {
      "cell_type": "markdown",
      "source": [
        "🔄 Polymorphism\n"
      ],
      "metadata": {
        "id": "YU8oYEIWTih7"
      }
    },
    {
      "cell_type": "code",
      "source": [
        "class Dog:\n",
        "    def sound(self):\n",
        "        print(\"Bark\")\n",
        "\n",
        "class Cat:\n",
        "    def sound(self):\n",
        "        print(\"Meow\")\n",
        "\n",
        "for animal in (Dog(), Cat()):\n",
        "    animal.sound()\n"
      ],
      "metadata": {
        "colab": {
          "base_uri": "https://localhost:8080/"
        },
        "id": "MV2zUwmjTmWq",
        "outputId": "97e19e6d-cecf-4fd8-e7f9-bf50654e81f4"
      },
      "execution_count": null,
      "outputs": [
        {
          "output_type": "stream",
          "name": "stdout",
          "text": [
            "Bark\n",
            "Meow\n"
          ]
        }
      ]
    },
    {
      "cell_type": "markdown",
      "source": [
        "📦 2. Python @dataclass\n",
        "\n",
        "🔧 Why use dataclass?\n",
        "\n",
        ". Less boilerplate code\n",
        "\n",
        ". Automatic constructor, repr, etc."
      ],
      "metadata": {
        "id": "2gxkfBCYTriP"
      }
    },
    {
      "cell_type": "markdown",
      "source": [
        "✅ Example:"
      ],
      "metadata": {
        "id": "oa13YqlfT1sm"
      }
    },
    {
      "cell_type": "code",
      "source": [
        "from dataclasses import dataclass\n",
        "\n",
        "@dataclass\n",
        "class Book:\n",
        "    title: str\n",
        "    author: str\n",
        "    pages: int\n",
        "\n",
        "b = Book(\"Python 101\", \"Hiba\", 300)\n",
        "print(b)\n"
      ],
      "metadata": {
        "colab": {
          "base_uri": "https://localhost:8080/"
        },
        "id": "mHPuIKsjT4fY",
        "outputId": "797bd62f-4250-42ba-9992-55f0d7232c2f"
      },
      "execution_count": null,
      "outputs": [
        {
          "output_type": "stream",
          "name": "stdout",
          "text": [
            "Book(title='Python 101', author='Hiba', pages=300)\n"
          ]
        }
      ]
    },
    {
      "cell_type": "markdown",
      "source": [
        "Output:"
      ],
      "metadata": {
        "id": "YpiGVDwyT77X"
      }
    },
    {
      "cell_type": "code",
      "source": [
        "Book(title='Python 101', author='Hiba', pages=300)\n"
      ],
      "metadata": {
        "id": "nUr0QTHFT7p-",
        "outputId": "815f23a6-32b9-4970-e046-061d3cbb97c2",
        "colab": {
          "base_uri": "https://localhost:8080/"
        }
      },
      "execution_count": null,
      "outputs": [
        {
          "output_type": "execute_result",
          "data": {
            "text/plain": [
              "Book(title='Python 101', author='Hiba', pages=300)"
            ]
          },
          "metadata": {},
          "execution_count": 6
        }
      ]
    }
  ]
}