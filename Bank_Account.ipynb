{
  "nbformat": 4,
  "nbformat_minor": 0,
  "metadata": {
    "colab": {
      "provenance": [],
      "authorship_tag": "ABX9TyPjBgd1W++C7jP/ywYkytDt",
      "include_colab_link": true
    },
    "kernelspec": {
      "name": "python3",
      "display_name": "Python 3"
    },
    "language_info": {
      "name": "python"
    }
  },
  "cells": [
    {
      "cell_type": "markdown",
      "metadata": {
        "id": "view-in-github",
        "colab_type": "text"
      },
      "source": [
        "<a href=\"https://colab.research.google.com/github/iam-jatoi/Google_Colab/blob/main/Bank_Account.ipynb\" target=\"_parent\"><img src=\"https://colab.research.google.com/assets/colab-badge.svg\" alt=\"Open In Colab\"/></a>"
      ]
    },
    {
      "cell_type": "code",
      "execution_count": 18,
      "metadata": {
        "colab": {
          "base_uri": "https://localhost:8080/"
        },
        "id": "Fggrh_nEny32",
        "outputId": "00fb8e06-a0af-4737-dfcb-a6cb7de3e8d9"
      },
      "outputs": [
        {
          "output_type": "stream",
          "name": "stdout",
          "text": [
            "Account Holder: Jabbar Jatoi\n",
            "Account Number: 12345\n",
            "Current Balance: 10000\n",
            "Successfully Deposited: 5000\n",
            "Succesfully withdrawl 3000\n",
            "Updated Balance: 12000\n"
          ]
        }
      ],
      "source": [
        "class BankAccount:\n",
        "  def __init__(self, account_holder, account_number, initial_balance=0):\n",
        "    self.account_holder = account_holder\n",
        "    self.account_number = account_number\n",
        "    self.__balance = initial_balance\n",
        "\n",
        "\n",
        "  def get_balance(self):\n",
        "    return self.__balance\n",
        "\n",
        "  def deposit_amount(self, amount):\n",
        "    if amount > 0:\n",
        "      self.__balance += amount\n",
        "      print(f\"Successfully Deposited: {amount}\")\n",
        "    else:\n",
        "      print(\"Deposit amount must be greater than 0.\")\n",
        "\n",
        "  def withdrawl_amount(self, amount):\n",
        "    if amount <= 0:\n",
        "      print(\"Withdrawl amount must be greater than 0.\")\n",
        "    elif amount > self.__balance:\n",
        "      print(\"insufient balance\")\n",
        "    else:\n",
        "      self.__balance -= amount\n",
        "      print(f\"Succesfully withdrawl {amount}\")\n",
        "\n",
        "  def display_info(self):\n",
        "      print(f\"Account Holder: {self.account_holder}\")\n",
        "      print(f\"Account Number: {self.account_number}\")\n",
        "      print(f\"Current Balance: {self.__balance}\")\n",
        "\n",
        "\n",
        "jabbar = BankAccount(\"Jabbar Jatoi\", 12345, 10000)\n",
        "jabbar.display_info()\n",
        "jabbar.deposit_amount(5000)\n",
        "jabbar.withdrawl_amount(3000)\n",
        "print(f\"Updated Balance: {jabbar.get_balance()}\")\n",
        ""
      ]
    }
  ]
}