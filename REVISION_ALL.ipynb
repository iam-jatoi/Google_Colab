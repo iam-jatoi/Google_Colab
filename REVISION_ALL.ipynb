{
  "nbformat": 4,
  "nbformat_minor": 0,
  "metadata": {
    "colab": {
      "provenance": [],
      "authorship_tag": "ABX9TyP5ruYgyFmT8HVdFuILGK4x",
      "include_colab_link": true
    },
    "kernelspec": {
      "name": "python3",
      "display_name": "Python 3"
    },
    "language_info": {
      "name": "python"
    }
  },
  "cells": [
    {
      "cell_type": "markdown",
      "metadata": {
        "id": "view-in-github",
        "colab_type": "text"
      },
      "source": [
        "<a href=\"https://colab.research.google.com/github/iam-jatoi/Google_Colab/blob/main/REVISION_ALL.ipynb\" target=\"_parent\"><img src=\"https://colab.research.google.com/assets/colab-badge.svg\" alt=\"Open In Colab\"/></a>"
      ]
    },
    {
      "cell_type": "markdown",
      "source": [
        "**FIRST CODING**"
      ],
      "metadata": {
        "id": "jwMxLD5o3Jx_"
      }
    },
    {
      "cell_type": "code",
      "execution_count": null,
      "metadata": {
        "id": "aLJZpPku21_8"
      },
      "outputs": [],
      "source": [
        "# Firt Coding\n",
        "print(\"Hellow World!\")"
      ]
    },
    {
      "cell_type": "markdown",
      "source": [
        "**DATA TYPES**"
      ],
      "metadata": {
        "id": "VpTS1KrE3OFX"
      }
    },
    {
      "cell_type": "code",
      "source": [
        "# 1. String\n",
        "# 2. Integer\n",
        "# 3. bool\n",
        "# 4. Float\n",
        "# 5. List\n",
        "# 6. Tuple\n",
        "# 6. Dictionary\n",
        "# 7. Set\n",
        "# 8. Range\n",
        "\n",
        "#1. String Syntax\n",
        "\n",
        "student_name = str(\"Jabbar Jatoi\")\n",
        "print(student_name)\n",
        "print(type(student_name))\n",
        "\n",
        "\n",
        "#2. Integer Syntax\n",
        "x = int(5)\n",
        "print(x)\n",
        "print(type(x))\n",
        "\n",
        "#3. bool Syntax\n",
        "x = bool(5)\n",
        "print(x)\n",
        "print(type(x))\n",
        "\n",
        "#4. Float Syntax\n",
        "x = float(5)\n",
        "print(x)\n",
        "print(type(x))\n",
        "\n",
        "#5. List Syntax\n",
        "x = list[\"Apple\",\"Mango\",\"Orange\"]\n",
        "print(x)\n",
        "print(type(x))\n",
        "\n",
        "#6. Tuple Syntax\n",
        "x = (\"Apple\",\"Mango\",\"Orange\")\n",
        "print(x)\n",
        "print(type(x))\n",
        "\n",
        "#7. Dictionary Syntax\n",
        "my_dict = {}\n",
        "print(my_dict)\n",
        "print(type(my_dict))\n",
        "\n",
        "#8. Set Synatx\n",
        "my_set = {\"Apple\",\"Mango\",\"Orange\"}\n",
        "print(my_set)\n",
        "print(type(my_set))\n",
        "\n",
        "#9. Range Syntax\n",
        "x = range(6)\n",
        "print(x)\n",
        "print(type(x))"
      ],
      "metadata": {
        "id": "3jm0EiVb3DAw"
      },
      "execution_count": null,
      "outputs": []
    },
    {
      "cell_type": "markdown",
      "source": [
        "**OPERATORS**"
      ],
      "metadata": {
        "id": "9D0FKwjh_hFK"
      }
    },
    {
      "cell_type": "code",
      "source": [
        "#1. Arithmetic Operators\n",
        "#2. Assignment Operators\n",
        "#3. Comparison Operators\n",
        "#4. Logical Operators\n",
        "\n",
        "1. Arithmetic Operators -  +, -, *, /, %, **, //\n",
        "\n",
        "2. Assignment Operators - =, +=, -=, *=, /=, %=, **=, //=\n",
        "\n",
        "3. Comparison Operators - ==, !=, >, <, >=, <=\n",
        "\n",
        "4. Logical Operators - and, or, not\n"
      ],
      "metadata": {
        "id": "4jH1XssY3T_b"
      },
      "execution_count": null,
      "outputs": []
    },
    {
      "cell_type": "markdown",
      "source": [
        "**If, Elif, Else**"
      ],
      "metadata": {
        "id": "wzc9-BuTA4ok"
      }
    },
    {
      "cell_type": "code",
      "source": [
        "x = 10\n",
        "y = 5\n",
        "\n",
        "if x > y:\n",
        "  print(\"x is greater than y\")\n",
        "elif x < y:\n",
        "  print(\"x is less than y\")\n",
        "else:\n",
        "  print(\"x is equal to y\")\n"
      ],
      "metadata": {
        "id": "h2z2jQZ_3DDc"
      },
      "execution_count": null,
      "outputs": []
    },
    {
      "cell_type": "code",
      "source": [
        "passing_marks = 40\n",
        "total_marks = 100\n",
        "student_input = int(input(\"Enter your Marks: \"))\n",
        "\n",
        "if student_input >= passing_marks:\n",
        "  print(\"Congratulations! You have passed the exam\")\n",
        "\n",
        "else:\n",
        "    print(\"Sorry! You have failed the exam\")"
      ],
      "metadata": {
        "id": "vGCV7DhfBpL8"
      },
      "execution_count": null,
      "outputs": []
    },
    {
      "cell_type": "code",
      "source": [
        "# Function to calculate grade\n",
        "def calculate_grade(marks):\n",
        "    if marks >= 90:\n",
        "        return 'A+'\n",
        "    elif marks >= 80:\n",
        "        return 'A'\n",
        "    elif marks >= 70:\n",
        "        return 'B+'\n",
        "    elif marks >= 60:\n",
        "        return 'B'\n",
        "    elif marks >= 50:\n",
        "        return 'C+'\n",
        "    elif marks >= 40:\n",
        "        return 'C'\n",
        "    else:\n",
        "        return 'F'\n",
        "\n",
        "# Function to display marksheet\n",
        "def display_marksheet(name, roll_number, marks):\n",
        "    grade = calculate_grade(marks)\n",
        "\n",
        "    # Displaying the marksheet\n",
        "    print(\"=== Marksheet ===\")\n",
        "    print(f\"Student Name: {name}\")\n",
        "    print(f\"Roll Number: {roll_number}\")\n",
        "    print(f\"Marks: {marks}\")\n",
        "    print(f\"Grade: {grade}\")\n",
        "    print(\"=================\")\n",
        "\n",
        "# Input from user\n",
        "student_name = input(\"Enter student name: \")\n",
        "roll_number = input(\"Enter roll number: \")\n",
        "marks = float(input(\"Enter marks out of 100: \"))\n",
        "\n",
        "# Display the marksheet\n",
        "display_marksheet(student_name, roll_number, marks)\n"
      ],
      "metadata": {
        "id": "Xg2r6SHCHnAm"
      },
      "execution_count": null,
      "outputs": []
    }
  ]
}